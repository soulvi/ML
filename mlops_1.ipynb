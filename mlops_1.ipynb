{
  "nbformat": 4,
  "nbformat_minor": 0,
  "metadata": {
    "colab": {
      "provenance": [],
      "include_colab_link": true
    },
    "kernelspec": {
      "name": "python3",
      "display_name": "Python 3"
    },
    "language_info": {
      "name": "python"
    }
  },
  "cells": [
    {
      "cell_type": "markdown",
      "metadata": {
        "id": "view-in-github",
        "colab_type": "text"
      },
      "source": [
        "<a href=\"https://colab.research.google.com/github/soulvi/ML/blob/main/mlops_1.ipynb\" target=\"_parent\"><img src=\"https://colab.research.google.com/assets/colab-badge.svg\" alt=\"Open In Colab\"/></a>"
      ]
    },
    {
      "cell_type": "markdown",
      "source": [
        "requirements.txt:\n",
        "\n",
        "kaggle\n",
        "pandas\n",
        "numpy\n",
        "scikit-learn"
      ],
      "metadata": {
        "id": "b4zNxOFIYKFC"
      }
    },
    {
      "cell_type": "code",
      "source": [
        "#установка requirements в колабе\n",
        "!pip install kaggle\n",
        "!pip install pandas\n",
        "!pip install numpy\n",
        "!pip install scikit-learn"
      ],
      "metadata": {
        "id": "v_yREsdvUsd6"
      },
      "execution_count": null,
      "outputs": []
    },
    {
      "cell_type": "markdown",
      "source": [
        "data_creation.py"
      ],
      "metadata": {
        "id": "BdUAj3rPVArN"
      }
    },
    {
      "cell_type": "code",
      "execution_count": null,
      "metadata": {
        "colab": {
          "base_uri": "https://localhost:8080/"
        },
        "id": "Psyat2TiRFPL",
        "outputId": "057da821-e281-491b-e2dd-2ded3e6d900a"
      },
      "outputs": [
        {
          "output_type": "stream",
          "name": "stdout",
          "text": [
            "Категориальные данные:\t  ['name', 'company', 'fuel_type'] \n",
            " Число столблцов =  3\n",
            "Числовые данные:\t  ['year', 'Price', 'kms_driven'] \n",
            " Число столблцов =  3\n"
          ]
        }
      ],
      "source": [
        "import pandas as pd\n",
        "import os\n",
        "from sklearn.model_selection import train_test_split\n",
        "\n",
        "data = pd.read_csv(\"cleaned_car.csv\", delimiter = ',', index_col=0)\n",
        "\n",
        "# Смотрим на типы данных\n",
        "cat_columns = []\n",
        "num_columns = []\n",
        "\n",
        "for column_name in data.columns:\n",
        "    if (data[column_name].dtypes == object):\n",
        "        cat_columns +=[column_name]\n",
        "    else:\n",
        "        num_columns +=[column_name]\n",
        "\n",
        "print('Категориальные данные:\\t ',cat_columns, '\\n Число столблцов = ',len(cat_columns))\n",
        "\n",
        "print('Числовые данные:\\t ',  num_columns, '\\n Число столблцов = ',len(num_columns))\n",
        "\n",
        "# Перекодируем значения в колонке Fuel_type\n",
        "data.fuel_type=data.fuel_type.replace({'Petrol':0,'Diesel':1,'LPG':2})\n",
        "\n",
        "# Приводим категориальные признаки к численным\n",
        "df_se = data.copy()\n",
        "df_se[cat_columns] = df_se[cat_columns].astype('category')\n",
        "for _, column_name in enumerate(cat_columns):\n",
        "    df_se[column_name] = df_se[column_name].cat.codes\n",
        "\n",
        "# Определяем X и y, нам нужно предсказать цену\n",
        "y = df_se[\"Price\"]\n",
        "X = df_se.drop([\"Price\"], axis = 1)\n",
        "\n",
        "# Делим данные на тестовую и тренировочную выборки\n",
        "X_train, X_test, y_train, y_test = train_test_split(X, y, test_size=0.3)\n",
        "\n",
        "# Сохраняем тренировочные и тестовые выборки в CSV файлы\n",
        "train_data = pd.concat([X_train, y_train], axis=1)\n",
        "test_data = pd.concat([X_test, y_test], axis=1)\n",
        "\n",
        "# Создаём папку для сохранения данных\n",
        "os.makedirs(\"dataset/train\", exist_ok=True)\n",
        "os.makedirs(\"dataset/test\", exist_ok=True)\n",
        "\n",
        "train_data.to_csv('dataset/train/train_data.csv', index=False)\n",
        "test_data.to_csv('dataset/test/test_data.csv', index=False)"
      ]
    },
    {
      "cell_type": "markdown",
      "source": [
        "model_preprocessing.py"
      ],
      "metadata": {
        "id": "nNyrZpSvVGJU"
      }
    },
    {
      "cell_type": "code",
      "source": [
        "import pandas as pd\n",
        "from sklearn.preprocessing import StandardScaler\n",
        "\n",
        "# Загружаем данные для предобработки\n",
        "train_data = pd.read_csv('dataset/train/train_data.csv')\n",
        "test_data = pd.read_csv('dataset/test/test_data.csv')\n",
        "\n",
        "# Разделяем предикторы и целевую переменную\n",
        "X_train = train_data.drop([\"Price\"], axis=1)\n",
        "y_train = train_data[\"Price\"]\n",
        "X_test = test_data.drop([\"Price\"], axis=1)\n",
        "y_test = test_data[\"Price\"]\n",
        "\n",
        "# Производим стандартизацию данных\n",
        "scaler = StandardScaler()\n",
        "X_train_scaled = scaler.fit_transform(X_train)\n",
        "X_test_scaled = scaler.transform(X_test)\n",
        "\n",
        "\n",
        "# Сохраняем предобработанные данные\n",
        "train_data_scaled = pd.concat([pd.DataFrame(X_train_scaled), y_train], axis=1)\n",
        "test_data_scaled = pd.concat([pd.DataFrame(X_test_scaled), y_test], axis=1)\n",
        "\n",
        "train_data_scaled.to_csv('dataset/train/train_data_scaled.csv', index=False)\n",
        "test_data_scaled.to_csv('dataset/test/test_data_scaled.csv', index=False)"
      ],
      "metadata": {
        "id": "txfs7qRQVMzM"
      },
      "execution_count": null,
      "outputs": []
    },
    {
      "cell_type": "markdown",
      "source": [
        "model_preparation.py"
      ],
      "metadata": {
        "id": "AlOjPL8sVRPf"
      }
    },
    {
      "cell_type": "code",
      "source": [
        "import pandas as pd\n",
        "from sklearn.ensemble import RandomForestRegressor  # Пример модели\n",
        "import joblib  # Для сохранения модели\n",
        "\n",
        "# Загрузка данных для обучения\n",
        "train_data = pd.read_csv('dataset/train/train_data_scaled.csv')\n",
        "\n",
        "# Разделение предикторов и целевой переменной\n",
        "X_train = train_data.drop([\"Price\"], axis=1)\n",
        "y_train = train_data[\"Price\"]\n",
        "\n",
        "# Создание и обучение модели\n",
        "model = RandomForestRegressor()  # Пример модели\n",
        "model.fit(X_train, y_train)\n",
        "\n",
        "# Сохранение модели\n",
        "joblib.dump(model, 'trained_model.pkl')"
      ],
      "metadata": {
        "colab": {
          "base_uri": "https://localhost:8080/"
        },
        "id": "8bRVmKB-VUDd",
        "outputId": "5f0c9351-257f-4c39-a4c7-47fe389d6637"
      },
      "execution_count": null,
      "outputs": [
        {
          "output_type": "execute_result",
          "data": {
            "text/plain": [
              "['trained_model.pkl']"
            ]
          },
          "metadata": {},
          "execution_count": 5
        }
      ]
    },
    {
      "cell_type": "markdown",
      "source": [
        "model_testing.py"
      ],
      "metadata": {
        "id": "1n-xHqYKVgom"
      }
    },
    {
      "cell_type": "code",
      "source": [
        "import pandas as pd\n",
        "from sklearn.metrics import mean_squared_error\n",
        "import joblib\n",
        "import json\n",
        "\n",
        "# Загрузка данных для тестирования\n",
        "test_data = pd.read_csv('dataset/test/test_data_scaled.csv')\n",
        "\n",
        "# Разделение предикторов и целевой переменной\n",
        "X_test = test_data.drop([\"Price\"], axis=1)\n",
        "y_test = test_data[\"Price\"]\n",
        "\n",
        "# Загрузка обученной модели\n",
        "model = joblib.load('trained_model.pkl')\n",
        "\n",
        "# Предсказание на тестовых данных\n",
        "predictions = model.predict(X_test)\n",
        "\n",
        "# Оценка качества модели\n",
        "mse = mean_squared_error(y_test, predictions)\n",
        "print(f\"Среднеквадратичная ошибка в тестовых данных: {mse}\")\n",
        "\n",
        "with open(\"testing_mse.json\", \"w\", encoding=\"utf-8\") as json_file:\n",
        "    json.dump(mse, json_file, ensure_ascii=False)\n"
      ],
      "metadata": {
        "colab": {
          "base_uri": "https://localhost:8080/"
        },
        "id": "RaQTVgPaVkNB",
        "outputId": "8f54eafe-0b33-486b-8278-43c0402b6644"
      },
      "execution_count": null,
      "outputs": [
        {
          "output_type": "stream",
          "name": "stdout",
          "text": [
            "Среднеквадратичная ошибка в тестовых данных: 58421935763.27224\n"
          ]
        }
      ]
    },
    {
      "cell_type": "markdown",
      "source": [
        "pipeline.sh"
      ],
      "metadata": {
        "id": "wERjm2fpV9Zc"
      }
    },
    {
      "cell_type": "code",
      "source": [
        "#!/bin/bash\n",
        "echo \"Устанавливаем переменные окружения Kaggle\"\n",
        "export KAGGLE_USERNAME=\"levshlyogin\"\n",
        "export KAGGLE_KEY=\"a34c45dc721891d278828abf7850aac4\"\n",
        "\n",
        "echo \"Устанавливаем библиотеки и зависимости\"\n",
        "pip install -r requirements.txt\n",
        "\n",
        "echo \"Скачиваем датасет\"\n",
        "kaggle datasets download -d shivamkushwah0411/quicker-car-cleaned-dataset\n",
        "\n",
        "echo \"Создаём папку для сохранения данных\"\n",
        "mkdir -p dataset\n",
        "\n",
        "echo \"Извлекаем файл датасета в папку dataset\"\n",
        "unzip -o quicker-car-cleaned-dataset.zip -d dataset/quicker-car-cleaned-dataset\n",
        "\n",
        "echo \"Запускаем Python-скрипт для получения данных\"\n",
        "python3 data_creation.py\n",
        "echo \"data_creation.py Done!\"\n",
        "sleep 5\n",
        "\n",
        "echo \"Выполняем предобработку данных\"\n",
        "python3 model_preparation.py\n",
        "echo \"model_preparation.py Done!\"\n",
        "sleep 5\n",
        "\n",
        "echo \"Создаем и обучаем модель машинного обучения на построенных данных из папки train\"\n",
        "python3 model_preprocessing.py\n",
        "echo \"model_preprocessing.py Done!\"\n",
        "sleep 5\n",
        "\n",
        "echo \"Проверяем модель машинного обучения на построенных данных из папки test\"\n",
        "python3 model_testing.py\n",
        "echo \"model_testing.py Done!\"\n",
        "sleep 5"
      ],
      "metadata": {
        "id": "Al51aGObWXyG"
      },
      "execution_count": null,
      "outputs": []
    }
  ]
}